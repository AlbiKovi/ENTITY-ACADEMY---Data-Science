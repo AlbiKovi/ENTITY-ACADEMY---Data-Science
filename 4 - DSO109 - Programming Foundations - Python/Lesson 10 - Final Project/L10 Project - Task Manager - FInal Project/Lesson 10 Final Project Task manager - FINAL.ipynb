{
 "cells": [
  {
   "cell_type": "markdown",
   "id": "25cf604c",
   "metadata": {},
   "source": [
    "# Lesson 10 Final Project: Task Manager\n",
    "## Alberta \"Albi\" Kovatcheva\n",
    "* This notebook includes the instructions for this project to explain the steps of creation."
   ]
  },
  {
   "cell_type": "code",
   "execution_count": 1,
   "id": "c3ff82a4",
   "metadata": {},
   "outputs": [],
   "source": [
    "# -*- coding: utf-8 -*-\n",
    "\"\"\"\n",
    "Created on Wed Aug  4 18:10:53 2021\n",
    "\n",
    "@author: albi\n",
    "\"\"\"\n",
    "tasks = [\n",
    "    {'name' : 'Write email to Jan', 'completed' : True},\n",
    "    {'name' : 'Sweep front porch', 'completed' : True},\n",
    "    {'name' : 'Call mom', 'completed' : False}\n",
    "]"
   ]
  },
  {
   "cell_type": "markdown",
   "id": "ac238872",
   "metadata": {},
   "source": [
    "### Requirements\n",
    "Below are the requirements for this project. There is some functionality already set up in your project. Currently, if you run the program in your VSCode terminal, you will see a menu of options, as shown below:\n",
    "\n",
    "1. List the tasks\n",
    "2. Add a task\n",
    "3. Remove a task\n",
    "4. Mark a task complete \n",
    "5. Quit\n",
    "\n",
    "What would you like to do?\n",
    "As the user, you are able to input the number 1 to see all tasks that currently live in the list of tasks (dictionaries) named tasks. The goal here is for you to write the functionality to add, remove, and mark a task complete by inputting 2, 3, or 4, respectively. Instructions are listed below.\n",
    "\n",
    "Tip!\n",
    "Remember to pay attention to indenting! When defining a function, you should have a colon at the end of the line, and Python will automatically indent for you. If you're not seeing the next line indented, double check your code!"
   ]
  },
  {
   "cell_type": "code",
   "execution_count": 2,
   "id": "d142e7be",
   "metadata": {},
   "outputs": [],
   "source": [
    "def list_tasks():\n",
    "    for index, task in enumerate(tasks):\n",
    "        print(str.format('{}: {} (Completed: {})', index, task['name'], task['completed']))"
   ]
  },
  {
   "cell_type": "markdown",
   "id": "cd8f6d87",
   "metadata": {},
   "source": [
    "### Add a Task\n",
    "#### 1. Within the already created add_task function, there is a variable named task_text which is the result of the input() function which prompts the user to type in something.\n",
    "* This input() function is a new function that you haven't seen before. It is essentially the opposite of the print() function. This allows for the user to input text when called.\n",
    "#### 2. Create a dictionary that uses the task_text variable as the name and sets completed to False.\n",
    "#### 3. Add the dictionary to the tasks list.\n",
    "#### 4. Within the while loop, add an elif statement that checks if the variable decision (defined within the while loop that allows the user to input a number) is 2, call the add_task function."
   ]
  },
  {
   "cell_type": "code",
   "execution_count": 3,
   "id": "1662c3af",
   "metadata": {},
   "outputs": [],
   "source": [
    "def add_task():\n",
    "    task_text = input('Please add a task: ') \n",
    "    # Using the above task_text variable, create a dictionary named new_task and set completed to False.\n",
    "    new_task = {'name' : task_text, 'completed' : False}\n",
    "    # Then, add new_task to the tasks list.\n",
    "    tasks.append(new_task)"
   ]
  },
  {
   "cell_type": "markdown",
   "id": "6d4c9a95",
   "metadata": {},
   "source": [
    "### Remove a task\n",
    "#### 1. You will need a function to handle this.\n",
    "#### 2. When this function is run, list out the tasks.\n",
    "* Hint! There is already a function that handles the listing of tasks.\n",
    "\n",
    "#### 3. Create a variable that uses input(). The user should be able to input the index number of the task to be removed.\n",
    "* Hint! You will need to wrap the input() function within the int() function so the user's input is read as a number.\n",
    "\n",
    "#### 4. Write the functionality to be able to delete the task in the list tasks based on the variable you created above.\n",
    "#### 5. Within the while loop, add an elif statement that allows your new function to be run when the correct menu option is chosen."
   ]
  },
  {
   "cell_type": "code",
   "execution_count": 4,
   "id": "4a59b8b4",
   "metadata": {},
   "outputs": [],
   "source": [
    "# You will need a function to handle removing a task.\n",
    "def remove_task():\n",
    "    # When this function is run, list out the tasks. Hint! There is already a function that handles this.\n",
    "    list_tasks()\n",
    "    # Here, create a variable that uses input. The user should be able to input the index number of the task to be removed. \n",
    "    # Hint! You will need to wrap the input() function within the int() function so the user's input is read as a number.\n",
    "    remove_todo = int(input('Please enter the number of the task to be removed: '))\n",
    "    # Here, delete the task in the tasks list based on the above variable.\n",
    "    tasks.remove(tasks[remove_todo])"
   ]
  },
  {
   "cell_type": "markdown",
   "id": "07b5c32c",
   "metadata": {},
   "source": [
    "### Mark a task complete\n",
    "#### 1. You will need a function to handle this.\n",
    "#### 2. When this function is run, list out the tasks.\n",
    "* Hint! There is already a function that handles the listing of tasks.\n",
    "#### 3. Create a variable that uses input. The user should be able to input the index number of the task to be marked complete.\n",
    "* Hint! You will need to wrap the input() function within the int() function so the user's input is read as a number.\n",
    "#### 4. Mark the task as complete in the list tasks based on the variable you created above.\n",
    "* Hint! you will need to use two sets of square brackets to find the index and set the appropriate key to True.\n",
    "#### 5. Within the while loop, add an elif statement that allows your new function to be run when the correct menu option is chosen."
   ]
  },
  {
   "cell_type": "code",
   "execution_count": 5,
   "id": "ebf4d783",
   "metadata": {},
   "outputs": [],
   "source": [
    "# You will need a function to handle marking a task complete.\n",
    "def mark_complete():\n",
    "    # When this function is run, list out the tasks. Hint! There is a function that already does this for you.\n",
    "    list_tasks()\n",
    "    # Here, create a variable that uses input. \n",
    "    # The user should be able to input the index number of the task to be marked complete. \n",
    "    # Hint! You will need to wrap the input() function within the int() function so the user's input is read as a number.\n",
    "    completed = int(input('Please enter the number of the task to be marked complete.'))\n",
    "    # Mark the task complete in the tasks list based on the variable you created above. \n",
    "    # Hint! you will need to use two sets of square brackets to find the index and set the appropriate key to True. \n",
    "    tasks[completed]['completed'] = True"
   ]
  },
  {
   "cell_type": "code",
   "execution_count": 6,
   "id": "cf3b9769",
   "metadata": {},
   "outputs": [],
   "source": [
    "menu_text = \"\"\"\n",
    "====================\n",
    "1. List the tasks\n",
    "2. Add a task\n",
    "3. Remove a task\n",
    "4. Mark task complete\n",
    "5. Quit\n",
    "\n",
    "What would you like to do? \"\"\""
   ]
  },
  {
   "cell_type": "code",
   "execution_count": null,
   "id": "955646b9",
   "metadata": {},
   "outputs": [],
   "source": [
    "program_is_running = True\n",
    "# Add elif statements for inputs 2, 3, and 4\n",
    "while program_is_running:\n",
    "    decision = input(menu_text)\n",
    "    if decision == '1':\n",
    "        list_tasks()\n",
    "    elif decision == '2':\n",
    "        add_task()\n",
    "    elif decision == '3':\n",
    "        remove_task()\n",
    "    elif decision == '4':\n",
    "        mark_complete()\n",
    "    elif decision == '5':\n",
    "        program_is_running = False\n",
    "    else:\n",
    "        print('please choose a valid option')"
   ]
  }
 ],
 "metadata": {
  "kernelspec": {
   "display_name": "Python 3",
   "language": "python",
   "name": "python3"
  },
  "language_info": {
   "codemirror_mode": {
    "name": "ipython",
    "version": 3
   },
   "file_extension": ".py",
   "mimetype": "text/x-python",
   "name": "python",
   "nbconvert_exporter": "python",
   "pygments_lexer": "ipython3",
   "version": "3.8.8"
  }
 },
 "nbformat": 4,
 "nbformat_minor": 5
}
